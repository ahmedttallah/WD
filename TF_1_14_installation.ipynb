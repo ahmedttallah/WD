{
  "nbformat": 4,
  "nbformat_minor": 0,
  "metadata": {
    "colab": {
      "name": "Copy of TF_1.14_installation.ipynb",
      "provenance": [],
      "collapsed_sections": [],
      "toc_visible": true,
      "authorship_tag": "ABX9TyOuzJFRk/17KMMv9zGgeauy",
      "include_colab_link": true
    },
    "kernelspec": {
      "name": "python3",
      "display_name": "Python 3"
    }
  },
  "cells": [
    {
      "cell_type": "markdown",
      "metadata": {
        "id": "view-in-github",
        "colab_type": "text"
      },
      "source": [
        "<a href=\"https://colab.research.google.com/github/ahmedttallah/WD/blob/master/Copy_of_TF_1_14_installation.ipynb\" target=\"_parent\"><img src=\"https://colab.research.google.com/assets/colab-badge.svg\" alt=\"Open In Colab\"/></a>"
      ]
    },
    {
      "cell_type": "markdown",
      "metadata": {
        "id": "LjnWe0whfPRY",
        "colab_type": "text"
      },
      "source": [
        "# Installing Tensorflow 1.14 CPU and GPU"
      ]
    },
    {
      "cell_type": "code",
      "metadata": {
        "id": "Y37-GaLVd2RV",
        "colab_type": "code",
        "colab": {}
      },
      "source": [
        "!pip install tensorflow==1.14"
      ],
      "execution_count": 0,
      "outputs": []
    },
    {
      "cell_type": "code",
      "metadata": {
        "id": "5CVsIyxbeQ1o",
        "colab_type": "code",
        "colab": {}
      },
      "source": [
        "!pip install tensorflow-gpu==1.14"
      ],
      "execution_count": 0,
      "outputs": []
    },
    {
      "cell_type": "markdown",
      "metadata": {
        "id": "IoLm3Vc-fn9y",
        "colab_type": "text"
      },
      "source": [
        "Check That TF is installed"
      ]
    },
    {
      "cell_type": "code",
      "metadata": {
        "id": "p3JxqyoFfa6Z",
        "colab_type": "code",
        "colab": {}
      },
      "source": [
        "import tensorflow as tf"
      ],
      "execution_count": 0,
      "outputs": []
    },
    {
      "cell_type": "code",
      "metadata": {
        "id": "71xvho9mfeuO",
        "colab_type": "code",
        "colab": {}
      },
      "source": [
        "hello = tf.constant('Hello, TensorFlow!')\n",
        "sess = tf.Session()"
      ],
      "execution_count": 0,
      "outputs": []
    },
    {
      "cell_type": "code",
      "metadata": {
        "id": "EzHuts2jfjnc",
        "colab_type": "code",
        "colab": {}
      },
      "source": [
        "print(sess.run(hello))"
      ],
      "execution_count": 0,
      "outputs": []
    },
    {
      "cell_type": "markdown",
      "metadata": {
        "id": "DiuTXMiEf-0Q",
        "colab_type": "text"
      },
      "source": [
        "Installing Prerequisites"
      ]
    },
    {
      "cell_type": "code",
      "metadata": {
        "id": "fArITXCMf4h3",
        "colab_type": "code",
        "colab": {}
      },
      "source": [
        "!pip install pillow"
      ],
      "execution_count": 0,
      "outputs": []
    },
    {
      "cell_type": "code",
      "metadata": {
        "id": "80LfiUphgLJp",
        "colab_type": "code",
        "colab": {}
      },
      "source": [
        "!pip install lxml"
      ],
      "execution_count": 0,
      "outputs": []
    },
    {
      "cell_type": "code",
      "metadata": {
        "id": "Pqo-7tE3gLeX",
        "colab_type": "code",
        "colab": {}
      },
      "source": [
        "!pip install jupyter"
      ],
      "execution_count": 0,
      "outputs": []
    },
    {
      "cell_type": "code",
      "metadata": {
        "id": "KDkguh5AgL0C",
        "colab_type": "code",
        "colab": {}
      },
      "source": [
        "!pip install matplotlib"
      ],
      "execution_count": 0,
      "outputs": []
    },
    {
      "cell_type": "code",
      "metadata": {
        "id": "t9c2LeqxgMPD",
        "colab_type": "code",
        "colab": {}
      },
      "source": [
        "!pip install opencv-python"
      ],
      "execution_count": 0,
      "outputs": []
    },
    {
      "cell_type": "code",
      "metadata": {
        "id": "7-AqhOZCgMiE",
        "colab_type": "code",
        "colab": {}
      },
      "source": [
        "!pip install pathlib"
      ],
      "execution_count": 0,
      "outputs": []
    },
    {
      "cell_type": "code",
      "metadata": {
        "id": "DvC2uArMgMw9",
        "colab_type": "code",
        "colab": {}
      },
      "source": [
        "!pip install git+https://github.com/philferriere/cocoapi.git#subdirectory=PythonAPI"
      ],
      "execution_count": 0,
      "outputs": []
    },
    {
      "cell_type": "markdown",
      "metadata": {
        "id": "pGRbuG08h13J",
        "colab_type": "text"
      },
      "source": [
        "Downloading the TensorFlow Models"
      ]
    },
    {
      "cell_type": "code",
      "metadata": {
        "id": "vNhIN2ugi7YA",
        "colab_type": "code",
        "colab": {}
      },
      "source": [
        "!git clone https://github.com/tensorflow/models.git"
      ],
      "execution_count": 0,
      "outputs": []
    },
    {
      "cell_type": "code",
      "metadata": {
        "id": "CqtnRyVJkLsj",
        "colab_type": "code",
        "colab": {}
      },
      "source": [
        "!pip install git+https://github.com/philferriere/cocoapi.git#subdirectory=PythonAPI"
      ],
      "execution_count": 0,
      "outputs": []
    },
    {
      "cell_type": "markdown",
      "metadata": {
        "id": "ZwtnCQYBhlDQ",
        "colab_type": "text"
      },
      "source": [
        "Converting from *.csv to *.record"
      ]
    },
    {
      "cell_type": "code",
      "metadata": {
        "id": "Ld9PerH4hmYu",
        "colab_type": "code",
        "colab": {}
      },
      "source": [
        "from __future__ import division\n",
        "from __future__ import print_function\n",
        "from __future__ import absolute_import\n",
        "\n",
        "import os\n",
        "import io\n",
        "import pandas as pd\n",
        "import tensorflow as tf\n",
        "\n",
        "from PIL import Image\n",
        "from models.research.object_detection.utils import dataset_util\n",
        "from collections import namedtuple, OrderedDict"
      ],
      "execution_count": 0,
      "outputs": []
    },
    {
      "cell_type": "code",
      "metadata": {
        "id": "T_UOzTGftcYL",
        "colab_type": "code",
        "colab": {}
      },
      "source": [
        "flags = tf.app.flags\n",
        "flags.DEFINE_string('csv_input', '', '/content/annotations')\n",
        "flags.DEFINE_string('output_path', '', '/content/annotations')\n",
        "FLAGS = flags.FLAGS"
      ],
      "execution_count": 0,
      "outputs": []
    }
  ]
}
